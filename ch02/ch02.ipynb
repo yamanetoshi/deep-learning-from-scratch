{
 "cells": [
  {
   "cell_type": "markdown",
   "metadata": {},
   "source": [
    "## メモの例\n",
    "\n",
    "- [deep-learning-from-scratch-c2.ipynb[(https://github.com/mayosuke/deep-learning-from-scratch/blob/master/deep-learning-from-scratch-c2.ipynb\n"
   ]
  },
  {
   "cell_type": "code",
   "execution_count": 4,
   "metadata": {
    "collapsed": false
   },
   "outputs": [
    {
     "name": "stdout",
     "output_type": "stream",
     "text": [
      "1\n",
      "0\n",
      "0\n",
      "0\n"
     ]
    }
   ],
   "source": [
    "from and_gate import AND\n",
    "\n",
    "print (AND(1, 1))\n",
    "print (AND(1, 0))\n",
    "print (AND(0, 1))\n",
    "print (AND(0, 0))"
   ]
  },
  {
   "cell_type": "code",
   "execution_count": 5,
   "metadata": {
    "collapsed": false
   },
   "outputs": [
    {
     "name": "stdout",
     "output_type": "stream",
     "text": [
      "1\n",
      "1\n",
      "1\n",
      "0\n"
     ]
    }
   ],
   "source": [
    "from or_gate import OR\n",
    "\n",
    "print (OR(1, 1))\n",
    "print (OR(1, 0))\n",
    "print (OR(0, 1))\n",
    "print (OR(0, 0))"
   ]
  },
  {
   "cell_type": "code",
   "execution_count": 6,
   "metadata": {
    "collapsed": false
   },
   "outputs": [
    {
     "name": "stdout",
     "output_type": "stream",
     "text": [
      "0\n",
      "1\n",
      "1\n",
      "1\n"
     ]
    }
   ],
   "source": [
    "from nand_gate import NAND\n",
    "\n",
    "print (NAND(1, 1))\n",
    "print (NAND(1, 0))\n",
    "print (NAND(0, 1))\n",
    "print (NAND(0, 0))"
   ]
  },
  {
   "cell_type": "code",
   "execution_count": 7,
   "metadata": {
    "collapsed": false
   },
   "outputs": [
    {
     "name": "stdout",
     "output_type": "stream",
     "text": [
      "0\n",
      "1\n",
      "1\n",
      "0\n"
     ]
    }
   ],
   "source": [
    "from xor_gate import XOR\n",
    "\n",
    "print (XOR(1, 1))\n",
    "print (XOR(1, 0))\n",
    "print (XOR(0, 1))\n",
    "print (XOR(0, 0))"
   ]
  },
  {
   "cell_type": "code",
   "execution_count": 2,
   "metadata": {
    "collapsed": false
   },
   "outputs": [
    {
     "name": "stderr",
     "output_type": "stream",
     "text": [
      "test_AND (__main__.Ch02TestCase) ... ok\n",
      "test_NAND (__main__.Ch02TestCase) ... ok\n",
      "test_OR (__main__.Ch02TestCase) ... ok\n",
      "test_XOR (__main__.Ch02TestCase) ... ok\n",
      "\n",
      "----------------------------------------------------------------------\n",
      "Ran 4 tests in 0.083s\n",
      "\n",
      "OK\n"
     ]
    }
   ],
   "source": [
    "# coding: utf-8\n",
    "\n",
    "from unittest import TestCase, main\n",
    "from and_gate import AND\n",
    "from or_gate import OR\n",
    "from nand_gate import NAND\n",
    "from xor_gate import XOR\n",
    "\n",
    "class Ch02TestCase(TestCase):\n",
    "    def test_AND(self):\n",
    "        # (+ (* 1 0.5) (* 1 0.5)) ;; 1.0\n",
    "        self.assertEqual(1, AND(1, 1)) \n",
    "\n",
    "        # (+ (* 0.4 0.5) (* 1.02 0.5)) ;; 0.71\n",
    "        self.assertEqual(1, AND(0.4, 1.02)) \n",
    "\n",
    "        # (+ (* 0.4 0.5) (* 1. 0.5)) ;; 0.7\n",
    "        self.assertEqual(0, AND(0.4, 1)) \n",
    "\n",
    "    def test_OR(self):\n",
    "        # (+ (* 1 0.5) (* 1 0.5)) ;; 1.0\n",
    "        self.assertEqual(1, OR(1, 1)) \n",
    "\n",
    "        # (+ (* 0.2 0.5) (* 0.21 0.5)) ;; 0.205\n",
    "        self.assertEqual(1, OR(0.2, 0.21)) \n",
    "\n",
    "        # (+ (* 0.2 0.5) (* 0.2 0.5)) ;; 0.2\n",
    "        self.assertEqual(0, OR(0.2, 0.2)) \n",
    "\n",
    "    def test_NAND(self):\n",
    "        # (+ (* 1 -0.5) (* 1 -0.5)) ;; -1.0\n",
    "        self.assertEqual(0, NAND(1, 1)) \n",
    "\n",
    "        # (+ (* 0.4 -0.5) (* 1. -0.5)) ;; -0.7\n",
    "        self.assertEqual(0, NAND(0.4, 1)) \n",
    "\n",
    "        # (+ (* 0.4 -0.5) (* 0.99 -0.5)) ;; -0.695\n",
    "        self.assertEqual(1, NAND(0.4, 0.99)) \n",
    "\n",
    "    def test_XOR(self):\n",
    "        self.assertEqual(0, XOR(0, 0)) \n",
    "        self.assertEqual(1, XOR(1, 0)) \n",
    "        self.assertEqual(1, XOR(0, 1)) \n",
    "        self.assertEqual(0, XOR(1, 1)) \n",
    "\n",
    "if __name__ == '__main__':\n",
    "    main(argv=['ignored', '-v'], exit=False)"
   ]
  },
  {
   "cell_type": "markdown",
   "metadata": {},
   "source": [
    "## 控え\n",
    "\n",
    "- 重みとバイアスについて\n"
   ]
  }
 ],
 "metadata": {
  "kernelspec": {
   "display_name": "Python 3",
   "language": "python",
   "name": "python3"
  },
  "language_info": {
   "codemirror_mode": {
    "name": "ipython",
    "version": 3
   },
   "file_extension": ".py",
   "mimetype": "text/x-python",
   "name": "python",
   "nbconvert_exporter": "python",
   "pygments_lexer": "ipython3",
   "version": "3.6.0"
  }
 },
 "nbformat": 4,
 "nbformat_minor": 2
}
